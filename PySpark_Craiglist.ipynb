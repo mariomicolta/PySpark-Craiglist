{
  "nbformat": 4,
  "nbformat_minor": 0,
  "metadata": {
    "colab": {
      "name": "PySpark- Craiglist",
      "provenance": [],
      "collapsed_sections": [],
      "authorship_tag": "ABX9TyM4NcbGzyFF0q2QnF5iyXDc",
      "include_colab_link": true
    },
    "kernelspec": {
      "name": "python3",
      "display_name": "Python 3"
    },
    "language_info": {
      "name": "python"
    }
  },
  "cells": [
    {
      "cell_type": "markdown",
      "metadata": {
        "id": "view-in-github",
        "colab_type": "text"
      },
      "source": [
        "<a href=\"https://colab.research.google.com/github/mariomicolta/PySpark-demo/blob/main/PySpark_Craiglist.ipynb\" target=\"_parent\"><img src=\"https://colab.research.google.com/assets/colab-badge.svg\" alt=\"Open In Colab\"/></a>"
      ]
    },
    {
      "cell_type": "markdown",
      "metadata": {
        "id": "2s398yTqw4hZ"
      },
      "source": [
        "***John Mario Micolta Garzón*** </br>\n",
        "*Ingeniero de Sistemas* </br>\n",
        "*Científico de Datos* </br>\n",
        "*3173301901* </br>\n",
        "*mariomicolta@gmail.com*"
      ]
    },
    {
      "cell_type": "markdown",
      "metadata": {
        "id": "BDaBOvFjWYcj"
      },
      "source": [
        "# CONFIGURACIÓN DEL ENTORNO PARA PODER EJECUTAR SPARK EN GOOGLE COLAB\n",
        "A continuación, se realizarán una serie de pasos con el fin de configurar el ambiente de desarrollo Google Colab para poder utilizar Apache Spark en su última versión.\n",
        "\n",
        "**Saltarse hasta el título: CASO DE NEGOCIO 1**"
      ]
    },
    {
      "cell_type": "markdown",
      "metadata": {
        "id": "s4-PZuDA01J1"
      },
      "source": [
        "## Instalación Java"
      ]
    },
    {
      "cell_type": "code",
      "metadata": {
        "id": "jREteaiGzuDj"
      },
      "source": [
        "!apt-get install openjdk-8-jdk-headless -qq > /dev/null"
      ],
      "execution_count": 1,
      "outputs": []
    },
    {
      "cell_type": "markdown",
      "metadata": {
        "id": "TnjU12AQ04v5"
      },
      "source": [
        "## Obtener automáticamente la última versión de Spark"
      ]
    },
    {
      "cell_type": "code",
      "metadata": {
        "id": "s26eP9iQ026u"
      },
      "source": [
        "from bs4 import BeautifulSoup\n",
        "import requests\n",
        "\n",
        "#Obtener las versiones de spark la pagina web\n",
        "url = 'https://downloads.apache.org/spark/' \n",
        "r = requests.get(url)\n",
        "html_doc = r.text\n",
        "soup = BeautifulSoup(html_doc)\n",
        "\n",
        "# leer la pagina web y obtener las versiones de spark disponibles\n",
        "link_files = []\n",
        "for link in soup.find_all('a'):\n",
        "  link_files.append(link.get('href'))\n",
        "spark_link = [x for x in link_files if 'spark' in x]  \n",
        "\n",
        "ver_spark = spark_link[2][:-1] # obtener la version y eliminar el caracter '/' del final\n",
        "print(ver_spark)"
      ],
      "execution_count": 2,
      "outputs": []
    },
    {
      "cell_type": "markdown",
      "metadata": {
        "id": "As5blknAXNzI"
      },
      "source": [
        "## Descargar e instalar PySpark.\n",
        "\n",
        "Dado que el core de Spark está construido en Scala, es necesario utilizar su interface para Python. Por lo tanto, se descarga e instala **PySpark**."
      ]
    },
    {
      "cell_type": "code",
      "metadata": {
        "colab": {
          "base_uri": "https://localhost:8080/"
        },
        "id": "-J-gRbDp1qks",
        "outputId": "e4e58031-9844-41cb-a17f-d34b48631662"
      },
      "source": [
        "import os \n",
        "os.system(f\"wget -q https://www-us.apache.org/dist/spark/{ver_spark}/{ver_spark}-bin-hadoop2.7.tgz\")\n",
        "os.system(f\"tar xf {ver_spark}-bin-hadoop2.7.tgz\")\n",
        "\n",
        "!pip install -q pyspark"
      ],
      "execution_count": 6,
      "outputs": [
        {
          "output_type": "stream",
          "text": [
            "\u001b[K     |████████████████████████████████| 212.3MB 64kB/s \n",
            "\u001b[K     |████████████████████████████████| 204kB 17.7MB/s \n",
            "\u001b[?25h  Building wheel for pyspark (setup.py) ... \u001b[?25l\u001b[?25hdone\n"
          ],
          "name": "stdout"
        }
      ]
    },
    {
      "cell_type": "markdown",
      "metadata": {
        "id": "CcVYjbsp1xl1"
      },
      "source": [
        "## Configuración del entorno"
      ]
    },
    {
      "cell_type": "code",
      "metadata": {
        "id": "roBlb63r1v6U"
      },
      "source": [
        "os.environ[\"JAVA_HOME\"] = \"/usr/lib/jvm/java-8-openjdk-amd64\"\n",
        "os.environ[\"SPARK_HOME\"] = f\"/content/{ver_spark}-bin-hadoop2.7\""
      ],
      "execution_count": 7,
      "outputs": []
    },
    {
      "cell_type": "markdown",
      "metadata": {
        "id": "VLpBE49FXrX3"
      },
      "source": [
        "## Configuración de Kaggle\n",
        "Dado que para realizar este ejercicio se utilizó el notebook gratuito que ofrece Google Colab, se consideró pertinente realizar la descarga de los datos desde Kaggle directamente al notebook. Para más información consultar el siguiente link: [Easiest way to download kaggle data in Google Colab - Kaggle Forum](https://www.kaggle.com/general/74235) o [How to use the Kaggle API from Colab](https://colab.research.google.com/github/corrieann/kaggle/blob/master/kaggle_api_in_colab.ipynb).\n",
        "\n",
        "Por lo tanto, se procedió a configurar Kaggle en este notebook."
      ]
    },
    {
      "cell_type": "code",
      "metadata": {
        "id": "J-lMQFaU2ZCN"
      },
      "source": [
        "!pip install -q kaggle"
      ],
      "execution_count": 9,
      "outputs": []
    },
    {
      "cell_type": "code",
      "metadata": {
        "colab": {
          "resources": {
            "http://localhost:8080/nbextensions/google.colab/files.js": {
              "data": "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",
              "ok": true,
              "headers": [
                [
                  "content-type",
                  "application/javascript"
                ]
              ],
              "status": 200,
              "status_text": ""
            }
          },
          "base_uri": "https://localhost:8080/",
          "height": 89
        },
        "id": "AVZ-iK2w5Ilu",
        "outputId": "637ddc79-0cd5-4c51-ba13-1a25d5687b0b"
      },
      "source": [
        "from google.colab import files\n",
        "files.upload()"
      ],
      "execution_count": 10,
      "outputs": [
        {
          "output_type": "display_data",
          "data": {
            "text/html": [
              "\n",
              "     <input type=\"file\" id=\"files-7ba2c477-ce23-40f5-9c82-88c516fc0880\" name=\"files[]\" multiple disabled\n",
              "        style=\"border:none\" />\n",
              "     <output id=\"result-7ba2c477-ce23-40f5-9c82-88c516fc0880\">\n",
              "      Upload widget is only available when the cell has been executed in the\n",
              "      current browser session. Please rerun this cell to enable.\n",
              "      </output>\n",
              "      <script src=\"/nbextensions/google.colab/files.js\"></script> "
            ],
            "text/plain": [
              "<IPython.core.display.HTML object>"
            ]
          },
          "metadata": {
            "tags": []
          }
        },
        {
          "output_type": "stream",
          "text": [
            "Saving kaggle.json to kaggle.json\n"
          ],
          "name": "stdout"
        },
        {
          "output_type": "execute_result",
          "data": {
            "text/plain": [
              "{'kaggle.json': b'{\"username\":\"mariomicolta\",\"key\":\"61ffb4cad712029ddbdee1ab1e305d6a\"}'}"
            ]
          },
          "metadata": {
            "tags": []
          },
          "execution_count": 10
        }
      ]
    },
    {
      "cell_type": "code",
      "metadata": {
        "id": "zoaO-zBZ5L1Q"
      },
      "source": [
        "!mkdir ~/.kaggle\n",
        "!cp kaggle.json ~/.kaggle/\n",
        "!chmod 600 ~/.kaggle/kaggle.json"
      ],
      "execution_count": 11,
      "outputs": []
    },
    {
      "cell_type": "code",
      "metadata": {
        "colab": {
          "base_uri": "https://localhost:8080/"
        },
        "id": "PpXtWKrC5VqF",
        "outputId": "019b69f6-e722-45df-e307-fdd0b3fb4a45"
      },
      "source": [
        "!kaggle datasets download -d austinreese/craigslist-carstrucks-data"
      ],
      "execution_count": 15,
      "outputs": [
        {
          "output_type": "stream",
          "text": [
            "Downloading craigslist-carstrucks-data.zip to /content\n",
            " 95% 250M/262M [00:04<00:00, 50.4MB/s]\n",
            "100% 262M/262M [00:04<00:00, 57.4MB/s]\n"
          ],
          "name": "stdout"
        }
      ]
    },
    {
      "cell_type": "code",
      "metadata": {
        "colab": {
          "base_uri": "https://localhost:8080/"
        },
        "id": "qr8s4jzZ5YQ1",
        "outputId": "454c5579-3e13-44f3-cab8-03620e5cfca9"
      },
      "source": [
        "!mkdir data\n",
        "!unzip craigslist-carstrucks-data.zip -d data"
      ],
      "execution_count": 16,
      "outputs": [
        {
          "output_type": "stream",
          "text": [
            "Archive:  craigslist-carstrucks-data.zip\n",
            "  inflating: data/vehicles.csv       \n"
          ],
          "name": "stdout"
        }
      ]
    },
    {
      "cell_type": "markdown",
      "metadata": {
        "id": "eL46Sp8u64nB"
      },
      "source": [
        "# CASO DE NEGOCIO 1\n",
        "\n",
        "**Sobre los datos:** Craigslist es la colección de vehículos usados ​​a la venta más grande del mundo. Los datos fueron capturados de sitio web de anuncios clasifiacos **Craiglist** a través de Web Scraping. Estos datos se recogen cada pocos meses, contienen la mayor parte de la información relevante que Craigslist proporciona sobre las ventas de automóviles, incluidas las siguientes columnas: *id, url, region, region_url, price, year, manufacturer, model, condition, cylinders, fuel, odometer, title_status, transmission, VIN, drive, size, type, paint_color, image_url, description, county, state, lat, long, posting_date*.\n",
        "\n",
        "Para más informacion, consultar los siguientes links:\n",
        "\n",
        "\n",
        "[Used Cars Dataset](https://www.kaggle.com/austinreese/craigslist-carstrucks-data/)\n",
        "\n",
        "[Used Vehicle Search](https://github.com/AustinReese/UsedVehicleSearch)\n",
        "\n",
        "[Craiglist - Wikipedia](https://es.wikipedia.org/wiki/Craigslist)\n",
        "\n",
        "[Craiglist - Web Oficial](https://craigslist.org/)"
      ]
    },
    {
      "cell_type": "markdown",
      "metadata": {
        "id": "-d9vijOkcpFn"
      },
      "source": [
        "## Importación de las librerias \n",
        "Se realizó el cargue de librerías y funciones requeridas para cumplir los objetivos de este ejercicio."
      ]
    },
    {
      "cell_type": "code",
      "metadata": {
        "id": "YRjYJNnf633p"
      },
      "source": [
        "from datetime import datetime, date\n",
        "from pyspark.sql.types import DoubleType, DateType, StringType\n",
        "from pyspark.sql import SparkSession\n",
        "from pyspark.sql.functions import when\n",
        "import matplotlib.pyplot as plt"
      ],
      "execution_count": 154,
      "outputs": []
    },
    {
      "cell_type": "markdown",
      "metadata": {
        "id": "Zi5t78HpdXCe"
      },
      "source": [
        "Creamos la sesión de Spark para poder acceder a todas las funcionalidades del Stack Apache Spark (SQL, Streaming, MLlib, GraphX). "
      ]
    },
    {
      "cell_type": "code",
      "metadata": {
        "id": "7SqgC3cd7b6m"
      },
      "source": [
        "spark = SparkSession.builder.appName(\"Test_spark\").master(\"local[*]\").getOrCreate()"
      ],
      "execution_count": 102,
      "outputs": []
    },
    {
      "cell_type": "markdown",
      "metadata": {
        "id": "2tk-P9f9_cTU"
      },
      "source": [
        "## Carga de datos\n",
        "\n",
        "Se realizó la carga de los datos previamente descargados en formato csv. Se le indica a Spark que la primera columna es la cabecera del dataframe."
      ]
    },
    {
      "cell_type": "code",
      "metadata": {
        "id": "3LYDR5RB6aRs"
      },
      "source": [
        "df = spark.read.load('./data/vehicles.csv', format = 'csv', header = True)"
      ],
      "execution_count": 109,
      "outputs": []
    },
    {
      "cell_type": "markdown",
      "metadata": {
        "id": "Wh7B7YwbeX_-"
      },
      "source": [
        "Con la intención de conocer una aproximación de los datos disponibles, se imprimen los primeros 20 registros y la estructura de dataframe. "
      ]
    },
    {
      "cell_type": "code",
      "metadata": {
        "colab": {
          "base_uri": "https://localhost:8080/"
        },
        "id": "SuO00c6561Tv",
        "outputId": "452299e9-b8f8-48ef-8424-0b75e0f785e3"
      },
      "source": [
        "df.show()\n",
        "df.printSchema()"
      ],
      "execution_count": 104,
      "outputs": [
        {
          "output_type": "stream",
          "text": [
            "+----------+--------------------+--------------------+--------------------+-----+----+------------+-----+---------+---------+----+--------+------------+------------+----+-----+----+----+-----------+---------+-----------+------+-----+----+----+------------+\n",
            "|        id|                 url|              region|          region_url|price|year|manufacturer|model|condition|cylinders|fuel|odometer|title_status|transmission| VIN|drive|size|type|paint_color|image_url|description|county|state| lat|long|posting_date|\n",
            "+----------+--------------------+--------------------+--------------------+-----+----+------------+-----+---------+---------+----+--------+------------+------------+----+-----+----+----+-----------+---------+-----------+------+-----+----+----+------------+\n",
            "|7222695916|https://prescott....|            prescott|https://prescott....| 6000|null|        null| null|     null|     null|null|    null|        null|        null|null| null|null|null|       null|     null|       null|  null|   az|null|null|        null|\n",
            "|7218891961|https://fayar.cra...|        fayetteville|https://fayar.cra...|11900|null|        null| null|     null|     null|null|    null|        null|        null|null| null|null|null|       null|     null|       null|  null|   ar|null|null|        null|\n",
            "|7221797935|https://keys.crai...|        florida keys|https://keys.crai...|21000|null|        null| null|     null|     null|null|    null|        null|        null|null| null|null|null|       null|     null|       null|  null|   fl|null|null|        null|\n",
            "|7222270760|https://worcester...|worcester / centr...|https://worcester...| 1500|null|        null| null|     null|     null|null|    null|        null|        null|null| null|null|null|       null|     null|       null|  null|   ma|null|null|        null|\n",
            "|7210384030|https://greensbor...|          greensboro|https://greensbor...| 4900|null|        null| null|     null|     null|null|    null|        null|        null|null| null|null|null|       null|     null|       null|  null|   nc|null|null|        null|\n",
            "|7222379453|https://hudsonval...|       hudson valley|https://hudsonval...| 1600|null|        null| null|     null|     null|null|    null|        null|        null|null| null|null|null|       null|     null|       null|  null|   ny|null|null|        null|\n",
            "|7221952215|https://hudsonval...|       hudson valley|https://hudsonval...| 1000|null|        null| null|     null|     null|null|    null|        null|        null|null| null|null|null|       null|     null|       null|  null|   ny|null|null|        null|\n",
            "|7220195662|https://hudsonval...|       hudson valley|https://hudsonval...|15995|null|        null| null|     null|     null|null|    null|        null|        null|null| null|null|null|       null|     null|       null|  null|   ny|null|null|        null|\n",
            "|7209064557|https://medford.c...|     medford-ashland|https://medford.c...| 5000|null|        null| null|     null|     null|null|    null|        null|        null|null| null|null|null|       null|     null|       null|  null|   or|null|null|        null|\n",
            "|7219485069|https://erie.crai...|                erie|https://erie.crai...| 3000|null|        null| null|     null|     null|null|    null|        null|        null|null| null|null|null|       null|     null|       null|  null|   pa|null|null|        null|\n",
            "|7218893038|https://elpaso.cr...|             el paso|https://elpaso.cr...|    0|null|        null| null|     null|     null|null|    null|        null|        null|null| null|null|null|       null|     null|       null|  null|   tx|null|null|        null|\n",
            "|7218325704|https://elpaso.cr...|             el paso|https://elpaso.cr...|    0|null|        null| null|     null|     null|null|    null|        null|        null|null| null|null|null|       null|     null|       null|  null|   tx|null|null|        null|\n",
            "|7217788283|https://elpaso.cr...|             el paso|https://elpaso.cr...|    0|null|        null| null|     null|     null|null|    null|        null|        null|null| null|null|null|       null|     null|       null|  null|   tx|null|null|        null|\n",
            "|7217147606|https://elpaso.cr...|             el paso|https://elpaso.cr...|    0|null|        null| null|     null|     null|null|    null|        null|        null|null| null|null|null|       null|     null|       null|  null|   tx|null|null|        null|\n",
            "|7209027818|https://elpaso.cr...|             el paso|https://elpaso.cr...|    0|null|        null| null|     null|     null|null|    null|        null|        null|null| null|null|null|       null|     null|       null|  null|   tx|null|null|        null|\n",
            "|7223509794|https://bellingha...|          bellingham|https://bellingha...|13995|null|        null| null|     null|     null|null|    null|        null|        null|null| null|null|null|       null|     null|       null|  null|   wa|null|null|        null|\n",
            "|7222753076|https://bellingha...|          bellingham|https://bellingha...|24999|null|        null| null|     null|     null|null|    null|        null|        null|null| null|null|null|       null|     null|       null|  null|   wa|null|null|        null|\n",
            "|7222206015|https://bellingha...|          bellingham|https://bellingha...|21850|null|        null| null|     null|     null|null|    null|        null|        null|null| null|null|null|       null|     null|       null|  null|   wa|null|null|        null|\n",
            "|7220030122|https://bellingha...|          bellingham|https://bellingha...|26850|null|        null| null|     null|     null|null|    null|        null|        null|null| null|null|null|       null|     null|       null|  null|   wa|null|null|        null|\n",
            "|7218423006|https://bellingha...|          bellingham|https://bellingha...|11999|null|        null| null|     null|     null|null|    null|        null|        null|null| null|null|null|       null|     null|       null|  null|   wa|null|null|        null|\n",
            "+----------+--------------------+--------------------+--------------------+-----+----+------------+-----+---------+---------+----+--------+------------+------------+----+-----+----+----+-----------+---------+-----------+------+-----+----+----+------------+\n",
            "only showing top 20 rows\n",
            "\n",
            "root\n",
            " |-- id: string (nullable = true)\n",
            " |-- url: string (nullable = true)\n",
            " |-- region: string (nullable = true)\n",
            " |-- region_url: string (nullable = true)\n",
            " |-- price: string (nullable = true)\n",
            " |-- year: string (nullable = true)\n",
            " |-- manufacturer: string (nullable = true)\n",
            " |-- model: string (nullable = true)\n",
            " |-- condition: string (nullable = true)\n",
            " |-- cylinders: string (nullable = true)\n",
            " |-- fuel: string (nullable = true)\n",
            " |-- odometer: string (nullable = true)\n",
            " |-- title_status: string (nullable = true)\n",
            " |-- transmission: string (nullable = true)\n",
            " |-- VIN: string (nullable = true)\n",
            " |-- drive: string (nullable = true)\n",
            " |-- size: string (nullable = true)\n",
            " |-- type: string (nullable = true)\n",
            " |-- paint_color: string (nullable = true)\n",
            " |-- image_url: string (nullable = true)\n",
            " |-- description: string (nullable = true)\n",
            " |-- county: string (nullable = true)\n",
            " |-- state: string (nullable = true)\n",
            " |-- lat: string (nullable = true)\n",
            " |-- long: string (nullable = true)\n",
            " |-- posting_date: string (nullable = true)\n",
            "\n"
          ],
          "name": "stdout"
        }
      ]
    },
    {
      "cell_type": "markdown",
      "metadata": {
        "id": "xdQRkfcvetP3"
      },
      "source": [
        "## Tipos de datos\n",
        "\n",
        "Se observó que Spark no infirió los tipos de datos; es decir, cargó todas las columnas con el tipo de dato **string**, aún cuando hay variables numéricas: *price y odometer*. \n",
        "\n",
        "Se procedió a crear 3 arrays con los nombres de las variables numéricas, categóricas y de elementos temporales por separado. Esto con el objetivo de facilitar el cambio de tipo de datos por batch y no individualmente. Además, se creó una función para encapsular toda la funcionalidad de cambiar el tipo de variable (reutilización de código)."
      ]
    },
    {
      "cell_type": "code",
      "metadata": {
        "id": "DmEHJom8kUGE"
      },
      "source": [
        "cols_numericas = ['price', 'odometer']\n",
        "cols_categoricas = ['id', 'url', 'region', 'region_url', 'year', 'manufacturer', 'model', 'condition', 'cylinders', 'fuel', 'title_status', 'transmission',\n",
        " 'VIN', 'drive', 'size', 'type', 'paint_color', 'image_url', 'description', 'county', 'state', 'lat', 'long', 'posting_date']\n",
        "cols_dates = ['year']\n",
        "\n",
        "def setDatatype(df, arr_variables, datatype):\n",
        "  for col in arr_variables:\n",
        "    df = df.withColumn(col, df[col].cast(datatype))\n",
        "    return df\n",
        "\n",
        "df = setDatatype(df, cols_numericas, DoubleType())\n",
        "df = setDatatype(df, cols_categoricas, StringType())\n",
        "df = setDatatype(df, cols_dates, DateType())"
      ],
      "execution_count": 105,
      "outputs": []
    },
    {
      "cell_type": "markdown",
      "metadata": {
        "id": "O9lI4A-Blcj4"
      },
      "source": [
        "Se validó que se hayan aplicado los cambios."
      ]
    },
    {
      "cell_type": "code",
      "metadata": {
        "colab": {
          "base_uri": "https://localhost:8080/"
        },
        "id": "v61tD2RQlZaP",
        "outputId": "464fd9fe-3ec3-454c-a1bd-2aeab1083998"
      },
      "source": [
        "df.printSchema()"
      ],
      "execution_count": 106,
      "outputs": [
        {
          "output_type": "stream",
          "text": [
            "root\n",
            " |-- id: string (nullable = true)\n",
            " |-- url: string (nullable = true)\n",
            " |-- region: string (nullable = true)\n",
            " |-- region_url: string (nullable = true)\n",
            " |-- price: double (nullable = true)\n",
            " |-- year: date (nullable = true)\n",
            " |-- manufacturer: string (nullable = true)\n",
            " |-- model: string (nullable = true)\n",
            " |-- condition: string (nullable = true)\n",
            " |-- cylinders: string (nullable = true)\n",
            " |-- fuel: string (nullable = true)\n",
            " |-- odometer: string (nullable = true)\n",
            " |-- title_status: string (nullable = true)\n",
            " |-- transmission: string (nullable = true)\n",
            " |-- VIN: string (nullable = true)\n",
            " |-- drive: string (nullable = true)\n",
            " |-- size: string (nullable = true)\n",
            " |-- type: string (nullable = true)\n",
            " |-- paint_color: string (nullable = true)\n",
            " |-- image_url: string (nullable = true)\n",
            " |-- description: string (nullable = true)\n",
            " |-- county: string (nullable = true)\n",
            " |-- state: string (nullable = true)\n",
            " |-- lat: string (nullable = true)\n",
            " |-- long: string (nullable = true)\n",
            " |-- posting_date: string (nullable = true)\n",
            "\n"
          ],
          "name": "stdout"
        }
      ]
    },
    {
      "cell_type": "markdown",
      "metadata": {
        "id": "8JO_5EKhsvaf"
      },
      "source": [
        "Para poder utilizar las capacidades SQL que provee Spark, se registró el dataframe como una tabla."
      ]
    },
    {
      "cell_type": "code",
      "metadata": {
        "id": "e9NUMzrwCLW2"
      },
      "source": [
        "df.createOrReplaceTempView(\"all_data\")"
      ],
      "execution_count": 107,
      "outputs": []
    },
    {
      "cell_type": "markdown",
      "metadata": {
        "id": "s31YaqRS_evq"
      },
      "source": [
        "# **PUNTO 1**: En el campo **year** deja solo el año, quitanto el \".\" y el \"0\".\n",
        "\n",
        "Se realizó una inspección visual de los datos y se determinó que estos no son consistentes en su estructura. Por ejemplo: se encontró que existen fechas en formato AÑO (*2021*) y otras en formato timestamp (*2021-04-25T14:03:05-0700*)."
      ]
    },
    {
      "cell_type": "code",
      "metadata": {
        "id": "zajdcXhN-eBN"
      },
      "source": [
        "#df.filter(df.year != 'null').distinct().select(['id', 'year']).show(200, truncate = False)"
      ],
      "execution_count": null,
      "outputs": []
    },
    {
      "cell_type": "markdown",
      "metadata": {
        "id": "LWcvCpWOyF_A"
      },
      "source": [
        "Se procedió a formatear las fechas en formato timestamp a formato año."
      ]
    },
    {
      "cell_type": "code",
      "metadata": {
        "colab": {
          "base_uri": "https://localhost:8080/"
        },
        "id": "5tW35CNYyMTn",
        "outputId": "b409d604-fbc3-4ce2-8019-c075d62e6920"
      },
      "source": [
        "from pyspark.sql.functions import year\n",
        "#df.select(year(df.year)).show(10 , False)\n",
        "spark.sql(\"SELECT EXTRACT(year from `year`) AS year FROM all_data WHERE year IS NOT NULL\").show(10, False)\n",
        "#spark.sql('SELECT id, date_format(year, \"y\") AS year FROM all_data WHERE year IS NOT NULL').show(10, False)\n",
        "#df.withColumn(\"year\", year(df['year'].cast(DateType()))).select(['year']).show(10, False)"
      ],
      "execution_count": 241,
      "outputs": [
        {
          "output_type": "stream",
          "text": [
            "+----+\n",
            "|year|\n",
            "+----+\n",
            "|2014|\n",
            "|2010|\n",
            "|2020|\n",
            "|2017|\n",
            "|2013|\n",
            "|2012|\n",
            "|2016|\n",
            "|2019|\n",
            "|2016|\n",
            "|2011|\n",
            "+----+\n",
            "only showing top 10 rows\n",
            "\n"
          ],
          "name": "stdout"
        }
      ]
    },
    {
      "cell_type": "markdown",
      "metadata": {
        "id": "awhJ_Y5M_pmu"
      },
      "source": [
        "# **PUNTO 2**: Informa cuántas regiones diferentes hay y cuántos registros hay por cada región.\n",
        "\n",
        "El resultado de las consulta se almacena en una vista.  "
      ]
    },
    {
      "cell_type": "code",
      "metadata": {
        "colab": {
          "base_uri": "https://localhost:8080/"
        },
        "id": "bE-UZdd2-rX-",
        "outputId": "1b93dc86-7cf5-4d1e-d8d3-cdb15a16f1b0"
      },
      "source": [
        "regiones = spark.sql(\"SELECT region, COUNT(region) AS cant_rows FROM all_data GROUP BY region ORDER BY cant_rows DESC\")\n",
        "regiones.createOrReplaceTempView(\"regiones\")\n",
        "\n",
        "cantidad_regiones = spark.sql(\"SELECT COUNT(region) AS cant_regiones FROM regiones\")\n",
        "regiones.createOrReplaceTempView(\"cantidad_regiones\")\n",
        "cantidad_regiones.show()"
      ],
      "execution_count": 152,
      "outputs": [
        {
          "output_type": "stream",
          "text": [
            "+-------------+\n",
            "|cant_regiones|\n",
            "+-------------+\n",
            "|          833|\n",
            "+-------------+\n",
            "\n"
          ],
          "name": "stdout"
        }
      ]
    },
    {
      "cell_type": "markdown",
      "metadata": {
        "id": "9T9V451uBdYk"
      },
      "source": [
        "Se encontró que existen **833** regiones.\n",
        "\n",
        "La siguiente tabla, muestra las 10 regiones en las que más autos se alquilan según el periodo de tiempo estudiado."
      ]
    },
    {
      "cell_type": "code",
      "metadata": {
        "colab": {
          "base_uri": "https://localhost:8080/"
        },
        "id": "8mO8jgqJErOt",
        "outputId": "4aceb981-366c-4579-e370-e72254217c01"
      },
      "source": [
        "regiones.show(10, truncate = False)"
      ],
      "execution_count": 155,
      "outputs": [
        {
          "output_type": "stream",
          "text": [
            "+------------------------+---------+\n",
            "|region                  |cant_rows|\n",
            "+------------------------+---------+\n",
            "|columbus                |3608     |\n",
            "|jacksonville            |3562     |\n",
            "|spokane / coeur d'alene |2988     |\n",
            "|eugene                  |2985     |\n",
            "|fresno / madera         |2983     |\n",
            "|orlando                 |2983     |\n",
            "|bend                    |2982     |\n",
            "|omaha / council bluffs  |2982     |\n",
            "|new hampshire           |2981     |\n",
            "|kennewick-pasco-richland|2981     |\n",
            "+------------------------+---------+\n",
            "only showing top 10 rows\n",
            "\n"
          ],
          "name": "stdout"
        }
      ]
    },
    {
      "cell_type": "markdown",
      "metadata": {
        "id": "DIGv9rYXMiRJ"
      },
      "source": [
        "Convertimos el dataframe de Spark a pandas para facilitar la manipulación a la hora de graficar."
      ]
    },
    {
      "cell_type": "code",
      "metadata": {
        "id": "QGRzLKc-Ijt3"
      },
      "source": [
        "regiones_pd = regiones.toPandas()\n",
        "regiones_pd = regiones_pd.astype({\"region\": str, \"cant_rows\": int}) "
      ],
      "execution_count": 163,
      "outputs": []
    },
    {
      "cell_type": "code",
      "metadata": {
        "colab": {
          "base_uri": "https://localhost:8080/",
          "height": 472
        },
        "id": "G5dV2QdgCP0A",
        "outputId": "dbb291b4-defe-477c-af4e-c186ee42d1d3"
      },
      "source": [
        "plt.rcdefaults()\n",
        "fig, ax = plt.subplots()\n",
        "\n",
        "ax.barh(regiones_pd.region[:20], regiones_pd.cant_rows[:20], align='center')\n",
        "ax.set_yticks(regiones_pd.region[:20])\n",
        "ax.set_yticklabels(regiones_pd.region[:20])\n",
        "ax.invert_yaxis()  # labels read top-to-bottom\n",
        "ax.set_xlabel('Cantidad de vehículos usados a la venta')\n",
        "ax.set_title('Regiones con más vehículos usados a la venta')\n",
        "\n",
        "plt.show()"
      ],
      "execution_count": 251,
      "outputs": [
        {
          "output_type": "display_data",
          "data": {
            "image/png": "[encoded data removed]",
            "text/plain": [
              "<Figure size 640x480 with 1 Axes>"
            ]
          },
          "metadata": {
            "tags": []
          }
        }
      ]
    },
    {
      "cell_type": "markdown",
      "metadata": {
        "id": "JDvD_pd2FGmY"
      },
      "source": [
        "# **PUNTO 3**: Genera un archivo con los registros que están completos descartando aquellos que tienen algunos de sus campos nulos.\n",
        "\n",
        "El resultado de la consulta se guardó en archivos .csv y .parquet. "
      ]
    },
    {
      "cell_type": "code",
      "metadata": {
        "colab": {
          "base_uri": "https://localhost:8080/"
        },
        "id": "pZ0TJNUYA5BM",
        "outputId": "b82ae235-de04-4f94-a932-b80fcb80a22c"
      },
      "source": [
        "clean_data = df.dropna(how = 'any')\n",
        "clean_data.write.save(\"clean_data.parquet\", format=\"parquet\")\n",
        "clean_data.write.save(\"clean_data.csv\", format=\"csv\")\n",
        "clean_data.count()"
      ],
      "execution_count": 184,
      "outputs": [
        {
          "output_type": "execute_result",
          "data": {
            "text/plain": [
              "4305"
            ]
          },
          "metadata": {
            "tags": []
          },
          "execution_count": 184
        }
      ]
    },
    {
      "cell_type": "markdown",
      "metadata": {
        "id": "CoJNAaFQPby9"
      },
      "source": [
        "Se encontró que existen **4305** registros con todos sus campos diligenciados."
      ]
    },
    {
      "cell_type": "code",
      "metadata": {
        "colab": {
          "base_uri": "https://localhost:8080/"
        },
        "id": "gI3ebXavPGGl",
        "outputId": "1b964d8e-5e90-4dec-a7aa-b952161bbe22"
      },
      "source": [
        "clean_data.show()"
      ],
      "execution_count": 183,
      "outputs": [
        {
          "output_type": "stream",
          "text": [
            "+----------+--------------------+--------------------+--------------------+-----+----+------------+--------------------+---------+------------+------+--------+------------+------------+-----------------+-----+---------+-----------+-----------+--------------------+--------------------+--------------------+--------------------+--------------------+--------------------+--------------------+\n",
            "|        id|                 url|              region|          region_url|price|year|manufacturer|               model|condition|   cylinders|  fuel|odometer|title_status|transmission|              VIN|drive|     size|       type|paint_color|           image_url|         description|              county|               state|                 lat|                long|        posting_date|\n",
            "+----------+--------------------+--------------------+--------------------+-----+----+------------+--------------------+---------+------------+------+--------+------------+------------+-----------------+-----+---------+-----------+-----------+--------------------+--------------------+--------------------+--------------------+--------------------+--------------------+--------------------+\n",
            "|7311390113|https://bham.crai...|          birmingham|https://bham.crai...|24990|2007|        ford|super duty f-450 drw|     good|10 cylinders|   gas|   46463|       clean|   automatic|1FDXF46Y47EB23553|  rwd|full-size|      truck|      white|https://images.cr...|\"2007 Ford Super ...| blunt cut & labe...| RH vanity mirror...|    dual cup holders| (4) air register...| ashtray & cigar ...|\n",
            "|7311383338|https://bham.crai...|          birmingham|https://bham.crai...|26990|2008|   chevrolet|              cc4500|     good| 8 cylinders|   gas|  100921|       clean|   automatic|1GBE4C3G38F402998|  4wd|full-size|      truck|      white|https://images.cr...|\"2008 Chevrolet C...| anti-freeze prot...| oil pressure gau...| Vortec 8.1L MD g...| 325 hp (239 kw) ...|800 rpm. - Maximu...|\n",
            "|7311381690|https://bham.crai...|          birmingham|https://bham.crai...|24990|2007|        ford|super duty f-450 drw|     good|10 cylinders|   gas|   46463|       clean|   automatic|1FDXF46Y47EB23553|  rwd|full-size|      truck|      white|https://images.cr...|\"2007 Ford Super ...| blunt cut & labe...| RH vanity mirror...|    dual cup holders| (4) air register...| ashtray & cigar ...|\n",
            "|7307067889|https://bham.crai...|          birmingham|https://bham.crai...|30900|2015|   chevrolet|      silverado 1500|     good| 8 cylinders|   gas|  114800|       clean|   automatic|3GCUKSEC4FG336264|  4wd|full-size|      truck|     custom|https://images.cr...|\"2015 Chevrolet S...|900 Year: 2015 Ma...|800 Color: Cream ...| 5.3L EcoTec3 V8 ...| Direct Injection...| 383 lb-ft of tor...|\n",
            "|7307067844|https://bham.crai...|          birmingham|https://bham.crai...|24900|2015|   chevrolet|      silverado 1500|     good| 8 cylinders|   gas|  119569|       clean|   automatic|3GCPCREC2FG522274|  rwd|full-size|      truck|      white|https://images.cr...|\"2015 Chevrolet S...|900 Year: 2015 Ma...|569 Color: White ...| DIRECT INJECTION...| Dual-stage front...| seat-mounted sid...|\n",
            "|7306896595|https://bham.crai...|          birmingham|https://bham.crai...|29990|2007|        ford|super duty f-750 ...|     good| 8 cylinders|diesel|  124669|       clean|   automatic|3FRXX75U17V517746|  rwd|full-size|      truck|      white|https://images.cr...|\"2007 Ford Super ...| inner splash shi...|          trip meter|          volt meter|        oil pressure|        coolant temp|\n",
            "|7302320525|https://bham.crai...|          birmingham|https://bham.crai...| 3300|1994|         bmw|        318ic cabrio|     fair| 4 cylinders|   gas|  304000|       clean|      manual|WBABK6328RED15065|  rwd| mid-size|convertible|      black|https://images.cr...|\"Please read the ...| but top is tight...| however paint lo...| so no water ente...| but the Alpine r...| but the back end...|\n",
            "|7301843551|https://bham.crai...|          birmingham|https://bham.crai...|40000|2017|        ford|               f-150| like new| 6 cylinders|   gas|   44000|       clean|   automatic|1FTEW1CG4HFB04535|  rwd|full-size|      truck|       blue|https://images.cr...|\"2017 ford f150 l...|      running boards| heated and coole...|       4 USB outlets| 2 110v outlets 4...|      tinted windows|\n",
            "|7315085297|https://shoals.cr...|florence / muscle...|https://shoals.cr...|14900|1999|        jeep|            wrangler|     good| 6 cylinders|   gas|  140212|       clean|      manual|1J4FY19S0XP415571|  4wd|full-size|        SUV|      green|https://images.cr...|\"SOLID JEEP, lift...|               winch|               hitch|      LED headlights| new tires and wh...|  with a good smooth|\n",
            "|7305334481|https://huntsvill...|huntsville / decatur|https://huntsvill...|39950|2020|        jeep|            wrangler| like new| 4 cylinders|   gas|    2600|       clean|   automatic|1C4GJXAN7LW325096|  4wd|  compact|        SUV|       blue|https://images.cr...|\"2020 Jeep Wrangl...|  Mopar Remote Start| Mopar Trailer To...|        Decal Delete| Etc....  This Wr...| underneath is sp...|\n",
            "|7310115422|https://mobile.cr...|              mobile|https://mobile.cr...|23995|2013|        ford|               f-150|     good| 6 cylinders|   gas|  139863|       clean|   automatic|1FTFW1CTXDFA26970|  rwd|full-size|      truck|      green|https://images.cr...|\"2013 Ford F-150 ...|995  Year: 2013 M...|863 Stock #:A2697...|           voltmeter|        oil pressure| engine coolant temp|\n",
            "|7310115394|https://mobile.cr...|              mobile|https://mobile.cr...|36995|2015|   chevrolet|               tahoe|     good| 8 cylinders|   gas|   97917|       clean|   automatic|1GNSCCKC5FR134619|  rwd|full-size|        SUV|      black|https://images.cr...|\"2015 Chevrolet T...| programmableWarn...|     key-in-ignition| driver and right...|               power|    all express down|\n",
            "|7310115335|https://mobile.cr...|              mobile|https://mobile.cr...|35995|2017|   chevrolet|      silverado 1500|     good| 8 cylinders|   gas|   69815|       clean|   automatic|3GCPCREC3HG357306|  rwd|full-size|      truck|      white|https://images.cr...|\"2017 Chevrolet S...|995  Year: 2017 M...|815 Stock #:35730...| DIRECT INJECTION...|        frontAirbags| dual-stage front...|\n",
            "|7308314267|https://mobile.cr...|              mobile|https://mobile.cr...|25677|2017|      toyota|              tacoma| like new| 6 cylinders|   gas|  110112|       clean|   automatic|5TFAZ5CN6HX032128|  rwd| mid-size|      truck|      brown|https://images.cr...|\"This vehicle is ...| depending on spe...| overall conditio...| and your persona...| vehicle tag/titl...| or processing fe...|\n",
            "|7307695692|https://mobile.cr...|              mobile|https://mobile.cr...|29995|2016|         ram|                1500|     good| 8 cylinders|   gas|  135005|       clean|   automatic|1C6RR7YT1GS413040|  4wd|full-size|      truck|       grey|https://images.cr...|\"2016 RAM 1500 4W...|995  Year: 2016 M...|005 Stock #:41304...|  Front Vented Discs| Brake Assist and...| Driver And Passe...|\n",
            "|7307694952|https://mobile.cr...|              mobile|https://mobile.cr...|19995|2011|        ford|               f-150|     good| 8 cylinders|   gas|  103554|       clean|   automatic|1FTFW1EF2BFC73159|  4wd|full-size|      truck|       grey|https://images.cr...|\"2011 Ford F-150 ...|995  Year: 2011 M...|554 Stock #:C7315...|           voltmeter|        oil pressure| engine coolant temp|\n",
            "|7307067972|https://mobile.cr...|              mobile|https://mobile.cr...|30900|2015|   chevrolet|      silverado 1500|     good| 8 cylinders|   gas|  114800|       clean|   automatic|3GCUKSEC4FG336264|  4wd|full-size|      truck|     custom|https://images.cr...|\"2015 Chevrolet S...|900 Year: 2015 Ma...|800 Color: Cream ...| 5.3L EcoTec3 V8 ...| Direct Injection...| 383 lb-ft of tor...|\n",
            "|7307067838|https://mobile.cr...|              mobile|https://mobile.cr...|24900|2015|   chevrolet|      silverado 1500|     good| 8 cylinders|   gas|  119569|       clean|   automatic|3GCPCREC2FG522274|  rwd|full-size|      truck|      white|https://images.cr...|\"2015 Chevrolet S...|900 Year: 2015 Ma...|569 Color: White ...| DIRECT INJECTION...| Dual-stage front...| seat-mounted sid...|\n",
            "|7305854218|https://mobile.cr...|              mobile|https://mobile.cr...|27995|2013|        ford|               f-150|     good| 6 cylinders|   gas|  104253|       clean|   automatic|1FTFW1ETXDKF30763|  4wd|full-size|      truck|      white|https://images.cr...|\"2013 Ford F-150 ...|995  Year: 2013 M...|253 Stock #:F3076...|           voltmeter|        oil pressure| engine coolant temp|\n",
            "|7307067900|https://montgomer...|          montgomery|https://montgomer...|30900|2015|   chevrolet|      silverado 1500|     good| 8 cylinders|   gas|  114800|       clean|   automatic|3GCUKSEC4FG336264|  4wd|full-size|      truck|     custom|https://images.cr...|\"2015 Chevrolet S...|900 Year: 2015 Ma...|800 Color: Cream ...| 5.3L EcoTec3 V8 ...| Direct Injection...| 383 lb-ft of tor...|\n",
            "+----------+--------------------+--------------------+--------------------+-----+----+------------+--------------------+---------+------------+------+--------+------------+------------+-----------------+-----+---------+-----------+-----------+--------------------+--------------------+--------------------+--------------------+--------------------+--------------------+--------------------+\n",
            "only showing top 20 rows\n",
            "\n"
          ],
          "name": "stdout"
        }
      ]
    },
    {
      "cell_type": "markdown",
      "metadata": {
        "id": "KMaRR7iVInEB"
      },
      "source": [
        "# **PUNTO 4**: Trae los registros donde el **price** sea >= 15000 y la condición del auto sea **good** o **excellent**.\n",
        "\n",
        "Para validar los nombres exactos de los tipos de condición del auto, se listan todos las disponibles."
      ]
    },
    {
      "cell_type": "code",
      "metadata": {
        "colab": {
          "base_uri": "https://localhost:8080/"
        },
        "id": "g_1s_xLyRNI6",
        "outputId": "dc70496b-a070-4b08-ccc0-bc9e88cb0169"
      },
      "source": [
        "clean_data.select(['condition']).distinct().show()"
      ],
      "execution_count": 190,
      "outputs": [
        {
          "output_type": "stream",
          "text": [
            "+---------+\n",
            "|condition|\n",
            "+---------+\n",
            "|      new|\n",
            "|     2006|\n",
            "|    E350 |\n",
            "|excellent|\n",
            "|   35 mpg|\n",
            "|  salvage|\n",
            "| like new|\n",
            "|    f250 |\n",
            "|     good|\n",
            "|     fair|\n",
            "+---------+\n",
            "\n"
          ],
          "name": "stdout"
        }
      ]
    },
    {
      "cell_type": "markdown",
      "metadata": {
        "id": "dqjlrBGZR-Nb"
      },
      "source": [
        "Esta consulta se realizó utilizando la API de spark y no las sentencias SQL."
      ]
    },
    {
      "cell_type": "code",
      "metadata": {
        "colab": {
          "base_uri": "https://localhost:8080/"
        },
        "id": "8R5mbzlCIqEZ",
        "outputId": "c47872d4-7d43-4abc-e517-0a3ecf28e948"
      },
      "source": [
        "autos_buenos_mayor_15000 = df.filter((df.price >= 15000) & (df.condition == 'good') | (df.condition == 'excellent'))\n",
        "autos_buenos_mayor_15000.select(['id', 'price', 'model', 'condition']).show(10, truncate = False)"
      ],
      "execution_count": 187,
      "outputs": [
        {
          "output_type": "stream",
          "text": [
            "+----------+-----+---------------------------+---------+\n",
            "|id        |price|model                      |condition|\n",
            "+----------+-----+---------------------------+---------+\n",
            "|7316814884|33590|sierra 1500 crew cab slt   |good     |\n",
            "|7316814758|22590|silverado 1500             |good     |\n",
            "|7316814989|39590|silverado 1500 crew        |good     |\n",
            "|7316743432|30990|tundra double cab sr       |good     |\n",
            "|7316356412|15000|f-150 xlt                  |excellent|\n",
            "|7316343444|27990|sierra 2500 hd extended cab|good     |\n",
            "|7316304717|34590|silverado 1500 double      |good     |\n",
            "|7316285779|35000|tacoma                     |excellent|\n",
            "|7316257769|29990|colorado extended cab      |good     |\n",
            "|7316133914|38590|corvette grand sport       |good     |\n",
            "+----------+-----+---------------------------+---------+\n",
            "only showing top 10 rows\n",
            "\n"
          ],
          "name": "stdout"
        }
      ]
    },
    {
      "cell_type": "markdown",
      "metadata": {
        "id": "daEWbIiTPtXJ"
      },
      "source": [
        "# **PUNTO 5**: Realiza el conteo de los autos azules manufacturados por chevrolet."
      ]
    },
    {
      "cell_type": "code",
      "metadata": {
        "colab": {
          "base_uri": "https://localhost:8080/"
        },
        "id": "kyroonlOPF6u",
        "outputId": "09d9087d-14ad-4a10-962f-b7e729d33261"
      },
      "source": [
        "spark.sql('SELECT COUNT(id) as Cantidad_autos_azules FROM all_data WHERE paint_color = \"blue\" AND manufacturer = \"chevrolet\"').show()"
      ],
      "execution_count": 195,
      "outputs": [
        {
          "output_type": "stream",
          "text": [
            "+---------------------+\n",
            "|Cantidad_autos_azules|\n",
            "+---------------------+\n",
            "|                 3660|\n",
            "+---------------------+\n",
            "\n"
          ],
          "name": "stdout"
        }
      ]
    },
    {
      "cell_type": "markdown",
      "metadata": {
        "id": "NHccvz1ZVD66"
      },
      "source": [
        "Se tiene que, 3660 vehículos usados que están a la venta son de color azul y fabricados por Chevrolet."
      ]
    },
    {
      "cell_type": "markdown",
      "metadata": {
        "id": "36YivA5tRfsN"
      },
      "source": [
        "# **PUNTO 6**: Haz que los autos negros se conviertan en azules y que los azules se conviertan en rojos. Muestra los resultados en una gráfica.\n",
        "\n",
        "Se graficó la distribución de los vehículos según los colores: *negro, azul y rojo* antes de la transformación de los datos."
      ]
    },
    {
      "cell_type": "code",
      "metadata": {
        "colab": {
          "base_uri": "https://localhost:8080/"
        },
        "id": "sJXjiEj_l6yT",
        "outputId": "63ff46be-c3f3-4243-9fd3-9cc5d7a9d427"
      },
      "source": [
        "vehiculos_color_prev = spark.sql('SELECT paint_color, COUNT(id) as cantidad FROM all_data WHERE paint_color IN (\"black\", \"blue\", \"red\") GROUP BY paint_color ORDER BY cantidad DESC')\n",
        "vehiculos_color_prev.show()"
      ],
      "execution_count": 298,
      "outputs": [
        {
          "output_type": "stream",
          "text": [
            "+-----------+--------+\n",
            "|paint_color|cantidad|\n",
            "+-----------+--------+\n",
            "|      black|   62861|\n",
            "|       blue|   31223|\n",
            "|        red|   30473|\n",
            "+-----------+--------+\n",
            "\n"
          ],
          "name": "stdout"
        }
      ]
    },
    {
      "cell_type": "markdown",
      "metadata": {
        "id": "v2X_dURyniBv"
      },
      "source": [
        "Convertimos a pandas para poder manipular"
      ]
    },
    {
      "cell_type": "code",
      "metadata": {
        "id": "j47q1G0Dnk4i"
      },
      "source": [
        "vehiculos_color_prev_pd = vehiculos_color_prev.toPandas()\n",
        "vehiculos_color_prev_pd = vehiculos_color_prev_pd.astype({\"paint_color\": str, \"cantidad\": int}) "
      ],
      "execution_count": 268,
      "outputs": []
    },
    {
      "cell_type": "code",
      "metadata": {
        "colab": {
          "base_uri": "https://localhost:8080/",
          "height": 453
        },
        "id": "7ez3xPBiqdao",
        "outputId": "9d01b9a1-3e06-49ca-837c-42735197aa3b"
      },
      "source": [
        "def plotBarsCarsColors(df):\n",
        "  df = df.toPandas()\n",
        "  df = df.astype({\"paint_color\": str, \"cantidad\": int}) \n",
        "\n",
        "  plt.rcdefaults()\n",
        "  fig, ax = plt.subplots()\n",
        "\n",
        "  bar_plt = ax.bar(df.paint_color, df.cantidad, align='center')\n",
        "  bar_plt[0].set_color('black')\n",
        "  bar_plt[1].set_color('blue')\n",
        "  bar_plt[2].set_color('red')\n",
        "\n",
        "  ax.set_xticks(df.paint_color)\n",
        "  ax.set_xticklabels(df.paint_color.str.capitalize())\n",
        "  ax.set_ylabel('Cantidad de vehículos')\n",
        "  ax.set_title('Cantidad de vehículos usados según los colores: negro, azúl y rojo')\n",
        "\n",
        "  plt.show()\n",
        "\n",
        "\n",
        "plotBarsCarsColors(vehiculos_color_prev)"
      ],
      "execution_count": 305,
      "outputs": [
        {
          "output_type": "display_data",
          "data": {
            "image/png": "[encoded data removed]",
            "text/plain": [
              "<Figure size 640x480 with 1 Axes>"
            ]
          },
          "metadata": {
            "tags": []
          }
        }
      ]
    },
    {
      "cell_type": "markdown",
      "metadata": {
        "id": "3KcRl2cBsrW-"
      },
      "source": [
        "Filtramos por colores y, luego realizamos la respectiva condición."
      ]
    },
    {
      "cell_type": "code",
      "metadata": {
        "id": "Zc2MkrHePKtm"
      },
      "source": [
        "vehiculos_color_post = df.filter((df.paint_color == 'black') | (df.paint_color == 'blue') | (df.paint_color == 'red')).withColumn(\"paint_color\", when(df.paint_color == 'black', 'blue').when(df.paint_color == 'blue', 'red').otherwise(df.paint_color)).select('paint_color')\n",
        "vehiculos_color_post = vehiculos_color_post.groupBy('paint_color').count().withColumnRenamed(\"count\", \"cantidad\")"
      ],
      "execution_count": 318,
      "outputs": []
    },
    {
      "cell_type": "code",
      "metadata": {
        "colab": {
          "base_uri": "https://localhost:8080/",
          "height": 453
        },
        "id": "8bs_utMOvOkZ",
        "outputId": "d15bb10d-d845-4fbf-cc4d-be02b4f31051"
      },
      "source": [
        "def plotBarsCarsColors2(df):\n",
        "  df = df.toPandas()\n",
        "  df = df.astype({\"paint_color\": str, \"cantidad\": int}) \n",
        "\n",
        "  plt.rcdefaults()\n",
        "  fig, ax = plt.subplots()\n",
        "\n",
        "  bar_plt = ax.bar(df.paint_color, df.cantidad, align='center')\n",
        "  bar_plt[0].set_color('red')\n",
        "  bar_plt[1].set_color('blue')\n",
        "\n",
        "  ax.set_xticks(df.paint_color)\n",
        "  ax.set_xticklabels(df.paint_color.str.capitalize())\n",
        "  ax.set_ylabel('Cantidad de vehículos')\n",
        "  ax.set_title('Cantidad de vehículos usados según los colores: negro, azúl y rojo')\n",
        "\n",
        "  plt.show()\n",
        "\n",
        "\n",
        "plotBarsCarsColors2(vehiculos_color_post)"
      ],
      "execution_count": 320,
      "outputs": [
        {
          "output_type": "display_data",
          "data": {
            "image/png": "[encoded data removed]",
            "text/plain": [
              "<Figure size 640x480 with 1 Axes>"
            ]
          },
          "metadata": {
            "tags": []
          }
        }
      ]
    },
    {
      "cell_type": "markdown",
      "metadata": {
        "id": "il2HQZY0wOw0"
      },
      "source": [
        "-----------------------------\n",
        "\n",
        "***John Mario Micolta Garzón*** </br>\n",
        "*Ingeniero de Sistemas* </br>\n",
        "*Científico de Datos* </br>\n",
        "*3173301901* </br>\n",
        "*mariomicolta@gmail.com*\n",
        "\n"
      ]
    },
    {
      "cell_type": "code",
      "metadata": {
        "id": "zMLgveESwVkj"
      },
      "source": [
        ""
      ],
      "execution_count": null,
      "outputs": []
    }
  ]
}